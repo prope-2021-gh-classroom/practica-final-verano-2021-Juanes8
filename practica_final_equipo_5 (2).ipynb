{
 "cells": [
  {
   "cell_type": "code",
   "execution_count": 1,
   "id": "abd7f29f-8991-4522-92c2-bfdbc3859185",
   "metadata": {},
   "outputs": [
    {
     "name": "stderr",
     "output_type": "stream",
     "text": [
      "Loading required package: combinat\n",
      "\n",
      "\n",
      "Attaching package: ‘combinat’\n",
      "\n",
      "\n",
      "The following object is masked from ‘package:utils’:\n",
      "\n",
      "    combn\n",
      "\n",
      "\n",
      "Loading required package: fAsianOptions\n",
      "\n",
      "Loading required package: timeDate\n",
      "\n",
      "Loading required package: timeSeries\n",
      "\n",
      "Loading required package: fBasics\n",
      "\n",
      "Loading required package: fOptions\n",
      "\n",
      "\n",
      "Attaching package: ‘prob’\n",
      "\n",
      "\n",
      "The following objects are masked from ‘package:base’:\n",
      "\n",
      "    intersect, setdiff, union\n",
      "\n",
      "\n",
      "Warning message in system(\"timedatectl\", intern = TRUE):\n",
      "“running command 'timedatectl' had status 1”\n",
      "── \u001b[1mAttaching packages\u001b[22m ─────────────────────────────────────── tidyverse 1.3.1 ──\n",
      "\n",
      "\u001b[32m✔\u001b[39m \u001b[34mtibble \u001b[39m 3.1.2     \u001b[32m✔\u001b[39m \u001b[34mdplyr  \u001b[39m 1.0.6\n",
      "\u001b[32m✔\u001b[39m \u001b[34mtidyr  \u001b[39m 1.1.3     \u001b[32m✔\u001b[39m \u001b[34mstringr\u001b[39m 1.4.0\n",
      "\u001b[32m✔\u001b[39m \u001b[34mreadr  \u001b[39m 1.4.0     \u001b[32m✔\u001b[39m \u001b[34mforcats\u001b[39m 0.5.1\n",
      "\u001b[32m✔\u001b[39m \u001b[34mpurrr  \u001b[39m 0.3.4     \n",
      "\n",
      "── \u001b[1mConflicts\u001b[22m ────────────────────────────────────────── tidyverse_conflicts() ──\n",
      "\u001b[31m✖\u001b[39m \u001b[34mdplyr\u001b[39m::\u001b[32mfilter()\u001b[39m masks \u001b[34mtimeSeries\u001b[39m::filter(), \u001b[34mstats\u001b[39m::filter()\n",
      "\u001b[31m✖\u001b[39m \u001b[34mdplyr\u001b[39m::\u001b[32mlag()\u001b[39m    masks \u001b[34mtimeSeries\u001b[39m::lag(), \u001b[34mstats\u001b[39m::lag()\n",
      "\n"
     ]
    }
   ],
   "source": [
    "install.packages(\"latex2exp\",lib=\"/usr/local/lib/R/site-library/\",\n",
    "                repos=\"https://cran.itam.mx/\")\n",
    "library(ggplot2)\n",
    "library(latex2exp)\n",
    "library(prob)\n",
    "library(tidyverse)\n",
    "library(dplyr)"
   ]
  },
  {
   "cell_type": "code",
   "execution_count": 2,
   "id": "da42600e-bb7f-4e56-b64e-0ade45b773e0",
   "metadata": {},
   "outputs": [
    {
     "ename": "ERROR",
     "evalue": "Error in file.choose(): file choice cancelled\n",
     "output_type": "error",
     "traceback": [
      "Error in file.choose(): file choice cancelled\nTraceback:\n",
      "1. read.csv(file.choose())",
      "2. read.table(file = file, header = header, sep = sep, quote = quote, \n .     dec = dec, fill = fill, comment.char = comment.char, ...)",
      "3. file.choose()"
     ]
    }
   ],
   "source": [
    "datos<-read.csv(file.choose())\n",
    "datos\n",
    "datos<-datos %>% select(X,Salario.en.Dolares,Tasa.de.desempleo,X..Egresados.en.miles,Pib)\n",
    "head(datos)\n"
   ]
  },
  {
   "cell_type": "markdown",
   "id": "f8d58d1f-da1a-4a88-9c2a-eb9bd4c2a229",
   "metadata": {},
   "source": [
    "# Salario por año\n",
    "El salario en México con respecto al dólar no ha presentado un cambio considerbale a lo largo de los años, oscilando entre 2.26 y 2.9  dólares con un promedio en los últimos 10 años de 2.62"
   ]
  },
  {
   "cell_type": "code",
   "execution_count": null,
   "id": "f35f1adf-dcb6-4d67-8b62-7ed16bffcb5e",
   "metadata": {},
   "outputs": [],
   "source": [
    "gsalrio<-plot(datos$X,(datos$Salario.en.Dolares),main=\"Salario\",sub=\"en México\",xlab=\"Años\",\n",
    "              ylab=\"en dólares\",col=\"blue\" )\n"
   ]
  },
  {
   "cell_type": "markdown",
   "id": "ece055d5-18c7-46a5-8bc0-947ab486cec7",
   "metadata": {},
   "source": [
    "### Cambio en el PIB por año\n",
    "El Pib ha presentado una contsante de estar entre el 2% y el 3%, excepto por el año del 2013 y los dos últimos años esto en parte a la desaceleración económica agravada por la pandemia por covid"
   ]
  },
  {
   "cell_type": "code",
   "execution_count": null,
   "id": "3cf2669c-6819-4da5-ae39-8273703cb25b",
   "metadata": {},
   "outputs": [],
   "source": [
    "gpib<-plot(datos$X,(datos$Pib),main=\"Cambio en el Pib por año\",sub=\"en México\",xlab=\"Años\",\n",
    "     ylab=\"Cambio en porcentaje\",ylim =c(-9,5),col=\"blue\" )"
   ]
  },
  {
   "cell_type": "markdown",
   "id": "ca568ff6-4397-49b5-8bbc-3e6c6dc7b9dc",
   "metadata": {},
   "source": [
    "### Cambio en la Tasa de Desempleo por año\n",
    "La tasa de desempleo mostraba una tendencia a la baja en los últimos año, sin embargo aumento en el año 2020 posiblemente también agravada por la pandemia por COVID"
   ]
  },
  {
   "cell_type": "code",
   "execution_count": null,
   "id": "1ee1bc48-792a-4631-a945-0e20dbb82207",
   "metadata": {},
   "outputs": [],
   "source": [
    "gtasa<-plot(datos$X,(datos$Tasa.de.desempleo),main=\"Cambio en la tasa de desempleo por año\",sub=\"en México\",xlab=\"Años\",\n",
    "            ylab=\"Cambio en porcentaje\",col=\"blue\" )"
   ]
  },
  {
   "cell_type": "markdown",
   "id": "365c237f-1249-4357-ba3e-fd303919b1da",
   "metadata": {},
   "source": [
    "### Número de egresados de estudios superiores por año\n",
    "El número de egresados de estudios superiores en México presentaba una tendencia positiva a lo largo de los años"
   ]
  },
  {
   "cell_type": "code",
   "execution_count": null,
   "id": "5cf1814d-51f1-4a67-b606-402587e3d426",
   "metadata": {},
   "outputs": [],
   "source": [
    "gegresados<-plot(x=datos$X,datos$X..Egresados.en.miles,main=\"Egresados de estudios superiores\",sub=\"en México\",xlab=\"Años\",\n",
    "     ylab=\"Egresados en miles\",col=\"blue\")"
   ]
  },
  {
   "cell_type": "code",
   "execution_count": null,
   "id": "b942d307-f655-49da-98a1-e17273575890",
   "metadata": {},
   "outputs": [],
   "source": [
    "regl<-lm(Salario.en.Dolares~Pib+Tasa.de.desempleo+X..Egresados.en.miles,data=datos)\n",
    "reglogit<-glm(Salario.en.Dolares~Pib+Tasa.de.desempleo+X..Egresados.en.miles,data=datos,family=\"\")"
   ]
  },
  {
   "cell_type": "code",
   "execution_count": null,
   "id": "aa588cf2-1cfe-4f3f-a3aa-fe57df3ab836",
   "metadata": {},
   "outputs": [],
   "source": []
  }
 ],
 "metadata": {
  "kernelspec": {
   "display_name": "R",
   "language": "R",
   "name": "ir"
  },
  "language_info": {
   "codemirror_mode": "r",
   "file_extension": ".r",
   "mimetype": "text/x-r-source",
   "name": "R",
   "pygments_lexer": "r",
   "version": "4.1.0"
  }
 },
 "nbformat": 4,
 "nbformat_minor": 5
}
