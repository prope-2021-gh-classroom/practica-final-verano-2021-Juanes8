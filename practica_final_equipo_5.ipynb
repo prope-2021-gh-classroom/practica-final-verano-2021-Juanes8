{
 "cells": [
  {
   "cell_type": "markdown",
   "metadata": {},
   "source": [
    "# Modelo de Regresión Logística"
   ]
  },
  {
   "cell_type": "markdown",
   "metadata": {},
   "source": [
    "La regresión de tipo logaritmica, permite pronosticar a las variables categóricas.\n",
    "Las variables categóricas son variables que cuentan con un número finito de valores, generalmente asociado a una característica caulitativa, como por ejemplo el sexo Hombre o Mujer, la cual se puede transformar a 1 si es Hombre y 0 si es mujer.\n",
    "\n"
   ]
  },
  {
   "cell_type": "markdown",
   "metadata": {},
   "source": [
    "Por lo que utilizaremos una base de datos extraída de la clases del módulo 1 del Diplomado en Modelos Estadísticos para Negocios, Finanzas y \n",
    "Econonía impartida en el ITAM durante el ciclo 2020-2021."
   ]
  },
  {
   "cell_type": "code",
   "execution_count": 1,
   "metadata": {},
   "outputs": [
    {
     "name": "stderr",
     "output_type": "stream",
     "text": [
      "Loading required package: combinat\n",
      "\n",
      "\n",
      "Attaching package: ‘combinat’\n",
      "\n",
      "\n",
      "The following object is masked from ‘package:utils’:\n",
      "\n",
      "    combn\n",
      "\n",
      "\n",
      "Loading required package: fAsianOptions\n",
      "\n",
      "Loading required package: timeDate\n",
      "\n",
      "Loading required package: timeSeries\n",
      "\n",
      "Loading required package: fBasics\n",
      "\n",
      "Loading required package: fOptions\n",
      "\n",
      "\n",
      "Attaching package: ‘prob’\n",
      "\n",
      "\n",
      "The following objects are masked from ‘package:base’:\n",
      "\n",
      "    intersect, setdiff, union\n",
      "\n",
      "\n",
      "Warning message in system(\"timedatectl\", intern = TRUE):\n",
      "“running command 'timedatectl' had status 1”\n",
      "── \u001b[1mAttaching packages\u001b[22m ─────────────────────────────────────── tidyverse 1.3.1 ──\n",
      "\n",
      "\u001b[32m✔\u001b[39m \u001b[34mtibble \u001b[39m 3.1.2     \u001b[32m✔\u001b[39m \u001b[34mdplyr  \u001b[39m 1.0.6\n",
      "\u001b[32m✔\u001b[39m \u001b[34mtidyr  \u001b[39m 1.1.3     \u001b[32m✔\u001b[39m \u001b[34mstringr\u001b[39m 1.4.0\n",
      "\u001b[32m✔\u001b[39m \u001b[34mreadr  \u001b[39m 1.4.0     \u001b[32m✔\u001b[39m \u001b[34mforcats\u001b[39m 0.5.1\n",
      "\u001b[32m✔\u001b[39m \u001b[34mpurrr  \u001b[39m 0.3.4     \n",
      "\n",
      "── \u001b[1mConflicts\u001b[22m ────────────────────────────────────────── tidyverse_conflicts() ──\n",
      "\u001b[31m✖\u001b[39m \u001b[34mdplyr\u001b[39m::\u001b[32mfilter()\u001b[39m masks \u001b[34mtimeSeries\u001b[39m::filter(), \u001b[34mstats\u001b[39m::filter()\n",
      "\u001b[31m✖\u001b[39m \u001b[34mdplyr\u001b[39m::\u001b[32mlag()\u001b[39m    masks \u001b[34mtimeSeries\u001b[39m::lag(), \u001b[34mstats\u001b[39m::lag()\n",
      "\n"
     ]
    }
   ],
   "source": [
    "library(ggplot2)\n",
    "library(prob)\n",
    "library(tidyverse)\n",
    "library(dplyr)"
   ]
  },
  {
   "cell_type": "code",
   "execution_count": 2,
   "metadata": {},
   "outputs": [
    {
     "data": {
      "text/html": [
       "'/datos/propedeutico_desde_2019/propedeutico_2021/practica-final-verano-2021-Juanes8'"
      ],
      "text/latex": [
       "'/datos/propedeutico\\_desde\\_2019/propedeutico\\_2021/practica-final-verano-2021-Juanes8'"
      ],
      "text/markdown": [
       "'/datos/propedeutico_desde_2019/propedeutico_2021/practica-final-verano-2021-Juanes8'"
      ],
      "text/plain": [
       "[1] \"/datos/propedeutico_desde_2019/propedeutico_2021/practica-final-verano-2021-Juanes8\""
      ]
     },
     "metadata": {},
     "output_type": "display_data"
    }
   ],
   "source": [
    "getwd()"
   ]
  },
  {
   "cell_type": "code",
   "execution_count": 3,
   "metadata": {},
   "outputs": [],
   "source": [
    "datos <- read.csv(file='Datos_pf.csv')"
   ]
  },
  {
   "cell_type": "code",
   "execution_count": 4,
   "metadata": {},
   "outputs": [
    {
     "name": "stdout",
     "output_type": "stream",
     "text": [
      "  Salario edad escolaridad          empleo genero Escolaridad Empleo Genero  X\n",
      "1   12000   57      Basica  Tiempo Parcial      M           0      0      0 NA\n",
      "2   22400   48    Superior Tiempo Completo      M           1      1      0 NA\n",
      "3   13200   38      Basica  Tiempo Parcial      M           0      0      0 NA\n",
      "4    7500   27    Superior  Tiempo Parcial      M           1      0      0 NA\n",
      "5   11100   23    Superior  Tiempo Parcial      H           1      0      1 NA\n",
      "6   12700   22    Superior  Tiempo Parcial      M           1      0      0 NA\n",
      "  X.1 X.2 X.3 X.4        Superior\n",
      "1  NA  NA  NA  NA Tiempo Completo\n",
      "2  NA  NA  NA  NA               H\n",
      "3  NA  NA  NA  NA                \n",
      "4  NA  NA  NA  NA                \n",
      "5  NA  NA  NA  NA                \n",
      "6  NA  NA  NA  NA                \n"
     ]
    }
   ],
   "source": [
    "print(head(datos))"
   ]
  },
  {
   "cell_type": "markdown",
   "metadata": {},
   "source": [
    "Observamos la información que tenemos de la base datos, dentro de la misma ya se encuentra una columna con las variables categóricas asociadas, por lo que realizamos una selección de los datos con los que estaremos trabajando "
   ]
  },
  {
   "cell_type": "code",
   "execution_count": 5,
   "metadata": {},
   "outputs": [],
   "source": [
    "datos<-datos%>%select(Salario,edad,escolaridad,empleo,genero,Escolaridad,Empleo,Genero)"
   ]
  },
  {
   "cell_type": "code",
   "execution_count": 6,
   "metadata": {},
   "outputs": [
    {
     "name": "stdout",
     "output_type": "stream",
     "text": [
      "  Salario edad escolaridad          empleo genero Escolaridad Empleo Genero\n",
      "1   12000   57      Basica  Tiempo Parcial      M           0      0      0\n",
      "2   22400   48    Superior Tiempo Completo      M           1      1      0\n",
      "3   13200   38      Basica  Tiempo Parcial      M           0      0      0\n",
      "4    7500   27    Superior  Tiempo Parcial      M           1      0      0\n",
      "5   11100   23    Superior  Tiempo Parcial      H           1      0      1\n",
      "6   12700   22    Superior  Tiempo Parcial      M           1      0      0\n"
     ]
    }
   ],
   "source": [
    "print(head(datos))"
   ]
  },
  {
   "cell_type": "markdown",
   "metadata": {},
   "source": [
    "Ya con la información seleccionada procedemos a realizar una gráfica con los datos de edad y salario haciendo una distinción entre el genero de las personas."
   ]
  },
  {
   "cell_type": "code",
   "execution_count": 7,
   "metadata": {},
   "outputs": [],
   "source": [
    "informacion <- ggplot()"
   ]
  },
  {
   "cell_type": "code",
   "execution_count": 8,
   "metadata": {},
   "outputs": [
    {
     "data": {
      "image/png": "[encoded data removed]",
      "text/plain": [
       "plot without title"
      ]
     },
     "metadata": {
      "image/png": {
       "height": 420,
       "width": 420
      }
     },
     "output_type": "display_data"
    }
   ],
   "source": [
    "informacion + geom_point(datos, mapping = aes (x=edad, y=Salario, color=genero)) +\n",
    "ggtitle ('Salario por género') + theme(plot.title =element_text (size=20, hjust=0.5))"
   ]
  },
  {
   "cell_type": "markdown",
   "metadata": {},
   "source": [
    "A partir de la gráfica podemos observar que el grueso de los datos son de Mujeres"
   ]
  },
  {
   "cell_type": "markdown",
   "metadata": {},
   "source": [
    "Es por ello que realizaremos una regresión con el fin observar si con base en las variables como sueldo, edad, empleo y escoladar es posible pronosticar si la pesona con las caracteristicas anterios es Hombre o Mujer\n",
    "\n",
    "Para ello haremos uso de la función glm para realizar nuestra regresión\n",
    "Las variables asociadas a la regresión son de la siguiente manera:\n",
    "\n",
    "-**Salario**: Variable continua, es el ingreso mensual por persona\n",
    "\n",
    "-**Edad**: Variable discreta\n",
    "\n",
    "-**Escolaridad**: Variable categórica que nos permite observar si la persona cuenta con o no con estudios superirores. (En caso de contar con estudios superiores la variable toma el valor de 1 y en caso contrario de 0)\n",
    "\n",
    "-**Tipo de empleo**: Variable categórica que nos permite observar si la persona trabaja de tiempo completo o tiempo parcial. (En caso de trabajar de tiempo completo la variable toma el valor de 1 y en caso contrario de 0)\n",
    "\n",
    "-**Sexo**: Variable categórica que nos permite observar si la persona es hombre o mujer. (En caso de ser hombre la variable toma el valor de 1 y en caso contrario de 0)"
   ]
  },
  {
   "cell_type": "code",
   "execution_count": 9,
   "metadata": {},
   "outputs": [
    {
     "data": {
      "text/plain": [
       "\n",
       "Call:\n",
       "glm(formula = Genero ~ Salario + edad + Escolaridad + Empleo, \n",
       "    family = \"binomial\", data = datos)\n",
       "\n",
       "Deviance Residuals: \n",
       "     Min        1Q    Median        3Q       Max  \n",
       "-1.74053  -0.67201  -0.43704  -0.05211   2.56081  \n",
       "\n",
       "Coefficients:\n",
       "              Estimate Std. Error z value Pr(>|z|)   \n",
       "(Intercept) -4.138e-01  6.954e-01  -0.595  0.55178   \n",
       "Salario     -1.943e-04  6.027e-05  -3.224  0.00127 **\n",
       "edad         1.802e-02  2.403e-02   0.750  0.45318   \n",
       "Escolaridad  8.069e-02  5.708e-01   0.141  0.88758   \n",
       "Empleo       1.612e+00  5.719e-01   2.819  0.00482 **\n",
       "---\n",
       "Signif. codes:  0 ‘***’ 0.001 ‘**’ 0.01 ‘*’ 0.05 ‘.’ 0.1 ‘ ’ 1\n",
       "\n",
       "(Dispersion parameter for binomial family taken to be 1)\n",
       "\n",
       "    Null deviance: 119.932  on 113  degrees of freedom\n",
       "Residual deviance:  95.595  on 109  degrees of freedom\n",
       "AIC: 105.6\n",
       "\n",
       "Number of Fisher Scoring iterations: 6\n"
      ]
     },
     "metadata": {},
     "output_type": "display_data"
    }
   ],
   "source": [
    "datos<-datos%>%select(Salario,edad,Escolaridad,Empleo,Genero)\n",
    "logit1<-glm(Genero~Salario+edad+Escolaridad+Empleo,data=datos,family = \"binomial\")\n",
    "summary(logit1)"
   ]
  },
  {
   "cell_type": "markdown",
   "metadata": {},
   "source": [
    "Observamos  que las variables significativas son el Salario y el tipo de Empleo, mientras que la edad y la escolaridad son no significativas, por lo que se pueden eliminar de la regresión.\n",
    "\n",
    "Por lo realizamos un regresión para solo las variables significativas"
   ]
  },
  {
   "cell_type": "code",
   "execution_count": 10,
   "metadata": {},
   "outputs": [
    {
     "data": {
      "text/plain": [
       "\n",
       "Call:\n",
       "glm(formula = Genero ~ Salario + Empleo, family = \"binomial\", \n",
       "    data = datos)\n",
       "\n",
       "Deviance Residuals: \n",
       "     Min        1Q    Median        3Q       Max  \n",
       "-1.55421  -0.67741  -0.44900  -0.05978   2.54502  \n",
       "\n",
       "Coefficients:\n",
       "              Estimate Std. Error z value Pr(>|z|)    \n",
       "(Intercept) -0.0483123  0.4807200  -0.100 0.919947    \n",
       "Salario     -0.0001743  0.0000513  -3.396 0.000683 ***\n",
       "Empleo       1.5980589  0.5674760   2.816 0.004861 ** \n",
       "---\n",
       "Signif. codes:  0 ‘***’ 0.001 ‘**’ 0.01 ‘*’ 0.05 ‘.’ 0.1 ‘ ’ 1\n",
       "\n",
       "(Dispersion parameter for binomial family taken to be 1)\n",
       "\n",
       "    Null deviance: 119.932  on 113  degrees of freedom\n",
       "Residual deviance:  96.157  on 111  degrees of freedom\n",
       "AIC: 102.16\n",
       "\n",
       "Number of Fisher Scoring iterations: 6\n"
      ]
     },
     "metadata": {},
     "output_type": "display_data"
    }
   ],
   "source": [
    "logit2<-glm(Genero~Salario+Empleo,data=datos,family = \"binomial\")\n",
    "summary(logit2)"
   ]
  },
  {
   "cell_type": "markdown",
   "metadata": {},
   "source": [
    "Se obtiene que hay una tendencia negativa en cuanto a salario, por lo que a mayor salario es más probable que sea mujer y hay una tendencia positiva en la variable dicotomica, por lo que las personas con empleo de tiempo completo sea hombre"
   ]
  },
  {
   "cell_type": "markdown",
   "metadata": {},
   "source": [
    "## Predicciones"
   ]
  },
  {
   "cell_type": "markdown",
   "metadata": {},
   "source": [
    "Ya con ambos modelos realizados procedemos a realizar la prediccion para conocer si es que a partir de esta regresión es posible determinar el genero. "
   ]
  },
  {
   "cell_type": "code",
   "execution_count": 11,
   "metadata": {},
   "outputs": [],
   "source": [
    "predicciones1 <- data.frame(predict.glm(logit1, datos, type='response'))"
   ]
  },
  {
   "cell_type": "code",
   "execution_count": 12,
   "metadata": {},
   "outputs": [],
   "source": [
    "predicciones1 <- ifelse(predicciones1 > 0.5, 'H', 'M')"
   ]
  },
  {
   "cell_type": "code",
   "execution_count": 13,
   "metadata": {},
   "outputs": [],
   "source": [
    "datos <-datos %>% mutate(Predicion_modelo=predicciones1)"
   ]
  },
  {
   "cell_type": "code",
   "execution_count": 14,
   "metadata": {},
   "outputs": [
    {
     "data": {
      "image/png": "[encoded data removed]",
      "text/plain": [
       "plot without title"
      ]
     },
     "metadata": {
      "image/png": {
       "height": 420,
       "width": 420
      }
     },
     "output_type": "display_data"
    }
   ],
   "source": [
    "informacion + geom_point(datos, mapping = aes (x=edad, y=Salario, color=predicciones1)) +\n",
    "ggtitle ('Salario por género prediccion 1') + theme(plot.title =element_text (size=20, hjust=0.5))"
   ]
  },
  {
   "cell_type": "code",
   "execution_count": 15,
   "metadata": {},
   "outputs": [],
   "source": [
    "predicciones2 <- data.frame(predict.glm(logit2, datos, type='response'))"
   ]
  },
  {
   "cell_type": "code",
   "execution_count": 16,
   "metadata": {},
   "outputs": [],
   "source": [
    "predicciones2 <- ifelse(predicciones2 > 0.5, 'H', 'M')"
   ]
  },
  {
   "cell_type": "code",
   "execution_count": 17,
   "metadata": {},
   "outputs": [],
   "source": [
    "datos <-datos %>% mutate(Predicion_modelo2=predicciones2)"
   ]
  },
  {
   "cell_type": "code",
   "execution_count": 18,
   "metadata": {},
   "outputs": [
    {
     "data": {
      "image/png": "[encoded data removed]",
      "text/plain": [
       "plot without title"
      ]
     },
     "metadata": {
      "image/png": {
       "height": 420,
       "width": 420
      }
     },
     "output_type": "display_data"
    }
   ],
   "source": [
    "informacion + geom_point(datos, mapping = aes (x=edad, y=Salario, color=predicciones2)) +\n",
    "ggtitle ('Salario por género prediccion 2') + theme(plot.title =element_text (size=20, hjust=0.5))"
   ]
  },
  {
   "cell_type": "markdown",
   "metadata": {},
   "source": [
    "Realizamos la comparativa de las cada una de las predicciones con los datos reales para conocer que tan acertado es cada modelo"
   ]
  },
  {
   "cell_type": "code",
   "execution_count": 19,
   "metadata": {},
   "outputs": [],
   "source": [
    "datos$Predicion_modelo_numeric <- ifelse(datos$Predicion_modelo == \"M\",0,1)"
   ]
  },
  {
   "cell_type": "code",
   "execution_count": 20,
   "metadata": {},
   "outputs": [],
   "source": [
    "datos$Predicion_modelo2_numeric <- ifelse(datos$Predicion_modelo2 == \"M\",0,1)"
   ]
  },
  {
   "cell_type": "code",
   "execution_count": 21,
   "metadata": {},
   "outputs": [
    {
     "data": {
      "text/html": [
       "0.780701754385965"
      ],
      "text/latex": [
       "0.780701754385965"
      ],
      "text/markdown": [
       "0.780701754385965"
      ],
      "text/plain": [
       "[1] 0.7807018"
      ]
     },
     "metadata": {},
     "output_type": "display_data"
    }
   ],
   "source": [
    "mean (datos$Predicion_modelo_numeric == datos$Genero)"
   ]
  },
  {
   "cell_type": "code",
   "execution_count": 22,
   "metadata": {},
   "outputs": [
    {
     "data": {
      "text/html": [
       "0.789473684210526"
      ],
      "text/latex": [
       "0.789473684210526"
      ],
      "text/markdown": [
       "0.789473684210526"
      ],
      "text/plain": [
       "[1] 0.7894737"
      ]
     },
     "metadata": {},
     "output_type": "display_data"
    }
   ],
   "source": [
    "mean (datos$Predicion_modelo2_numeric == datos$Genero)"
   ]
  },
  {
   "cell_type": "markdown",
   "metadata": {},
   "source": [
    "Para el caso del primer modelo tenemos un 78% de precisión mientras que para el segundo modelo es de 79%"
   ]
  },
  {
   "cell_type": "markdown",
   "metadata": {},
   "source": [
    "## Modelo dummy"
   ]
  },
  {
   "cell_type": "markdown",
   "metadata": {},
   "source": [
    "Si consideramos un modelo \"dummy\" que únicamente asigna valor 0 ¿cuánta precisión se obtiene?"
   ]
  },
  {
   "cell_type": "code",
   "execution_count": 23,
   "metadata": {},
   "outputs": [],
   "source": [
    "datos$modelo_dummy <- rep(0, 114)"
   ]
  },
  {
   "cell_type": "code",
   "execution_count": 24,
   "metadata": {},
   "outputs": [
    {
     "data": {
      "text/html": [
       "0.780701754385965"
      ],
      "text/latex": [
       "0.780701754385965"
      ],
      "text/markdown": [
       "0.780701754385965"
      ],
      "text/plain": [
       "[1] 0.7807018"
      ]
     },
     "metadata": {},
     "output_type": "display_data"
    }
   ],
   "source": [
    "mean (datos$modelo_dummy == datos$Genero)"
   ]
  },
  {
   "cell_type": "markdown",
   "metadata": {},
   "source": [
    "Entonces el modelo por regresión logística ajustado tiene la misma precisión que este modelo \"dummy\" por lo que hay que revisar el ajuste, el punto de corte o los datos. \n",
    "\n",
    "-> Si toman el punto de corte igual a $0.75$ para sus dos modelos obtienen la precisión de $0.789473684210526$ (chéquenlo). ¿Entonces tal precisión se debe al ajuste o sólo es una elección del punto de corte?"
   ]
  },
  {
   "cell_type": "markdown",
   "metadata": {},
   "source": [
    "El valor $0.780701754385965$ corresponde al porcentaje de mujeres en los datos:"
   ]
  },
  {
   "cell_type": "code",
   "execution_count": 25,
   "metadata": {},
   "outputs": [
    {
     "data": {
      "text/plain": [
       "\n",
       " 0  1 \n",
       "89 25 "
      ]
     },
     "metadata": {},
     "output_type": "display_data"
    }
   ],
   "source": [
    "table(datos$Genero)"
   ]
  },
  {
   "cell_type": "code",
   "execution_count": 26,
   "metadata": {},
   "outputs": [
    {
     "data": {
      "text/plain": [
       "\n",
       "        0         1 \n",
       "0.7807018 0.2192982 "
      ]
     },
     "metadata": {},
     "output_type": "display_data"
    }
   ],
   "source": [
    "table(datos$Genero)/114"
   ]
  },
  {
   "cell_type": "markdown",
   "metadata": {},
   "source": [
    "# Lo siguiente hace referencia a columna PruebaM, PruebaH que no están en el csv"
   ]
  },
  {
   "cell_type": "markdown",
   "metadata": {},
   "source": [
    "Realizamos la comparitiva considerando que solo hay mujeres en el grupo"
   ]
  },
  {
   "cell_type": "code",
   "execution_count": 147,
   "metadata": {},
   "outputs": [
    {
     "data": {
      "text/html": [
       "0.912280701754386"
      ],
      "text/latex": [
       "0.912280701754386"
      ],
      "text/markdown": [
       "0.912280701754386"
      ],
      "text/plain": [
       "[1] 0.9122807"
      ]
     },
     "metadata": {},
     "output_type": "display_data"
    }
   ],
   "source": [
    "mean (predicciones1 == datos$PruebaM)"
   ]
  },
  {
   "cell_type": "code",
   "execution_count": 148,
   "metadata": {},
   "outputs": [
    {
     "data": {
      "text/html": [
       "0.921052631578947"
      ],
      "text/latex": [
       "0.921052631578947"
      ],
      "text/markdown": [
       "0.921052631578947"
      ],
      "text/plain": [
       "[1] 0.9210526"
      ]
     },
     "metadata": {},
     "output_type": "display_data"
    }
   ],
   "source": [
    "mean (predicciones2 == datos$PruebaM)"
   ]
  },
  {
   "cell_type": "markdown",
   "metadata": {},
   "source": [
    "Para el caso del primer modelo tenemos un 91% de precisión mientras que para el segundo modelo es de 92%"
   ]
  },
  {
   "cell_type": "markdown",
   "metadata": {},
   "source": [
    "Hacemos lo mismo considerando solo hombres"
   ]
  },
  {
   "cell_type": "code",
   "execution_count": 149,
   "metadata": {},
   "outputs": [
    {
     "data": {
      "text/html": [
       "0.087719298245614"
      ],
      "text/latex": [
       "0.087719298245614"
      ],
      "text/markdown": [
       "0.087719298245614"
      ],
      "text/plain": [
       "[1] 0.0877193"
      ]
     },
     "metadata": {},
     "output_type": "display_data"
    }
   ],
   "source": [
    "mean (predicciones1 == datos$PruebaH)"
   ]
  },
  {
   "cell_type": "code",
   "execution_count": 150,
   "metadata": {},
   "outputs": [
    {
     "data": {
      "text/html": [
       "0.0789473684210526"
      ],
      "text/latex": [
       "0.0789473684210526"
      ],
      "text/markdown": [
       "0.0789473684210526"
      ],
      "text/plain": [
       "[1] 0.07894737"
      ]
     },
     "metadata": {},
     "output_type": "display_data"
    }
   ],
   "source": [
    "mean (predicciones2 == datos$PruebaH)"
   ]
  },
  {
   "cell_type": "markdown",
   "metadata": {},
   "source": [
    "Cambiando el corte de acuerdo a la proporcion de hombres y mujeres "
   ]
  },
  {
   "cell_type": "code",
   "execution_count": 157,
   "metadata": {},
   "outputs": [],
   "source": [
    "predicciones1 <- data.frame(predict.glm(logit1, datos, type='response'))"
   ]
  },
  {
   "cell_type": "code",
   "execution_count": 158,
   "metadata": {},
   "outputs": [],
   "source": [
    "predicciones1 <- ifelse(predicciones1 > 0.79, 'H', 'M')"
   ]
  },
  {
   "cell_type": "code",
   "execution_count": 159,
   "metadata": {},
   "outputs": [
    {
     "data": {
      "text/html": [
       "0.780701754385965"
      ],
      "text/latex": [
       "0.780701754385965"
      ],
      "text/markdown": [
       "0.780701754385965"
      ],
      "text/plain": [
       "[1] 0.7807018"
      ]
     },
     "metadata": {},
     "output_type": "display_data"
    }
   ],
   "source": [
    "mean (predicciones1 == datos$genero)"
   ]
  },
  {
   "cell_type": "code",
   "execution_count": 160,
   "metadata": {},
   "outputs": [],
   "source": [
    "predicciones2 <- data.frame(predict.glm(logit2, datos, type='response'))"
   ]
  },
  {
   "cell_type": "code",
   "execution_count": 161,
   "metadata": {},
   "outputs": [],
   "source": [
    "predicciones2 <- ifelse(predicciones2 > 0.79, 'H', 'M')"
   ]
  },
  {
   "cell_type": "code",
   "execution_count": 207,
   "metadata": {},
   "outputs": [
    {
     "data": {
      "text/html": [
       "0.780701754385965"
      ],
      "text/latex": [
       "0.780701754385965"
      ],
      "text/markdown": [
       "0.780701754385965"
      ],
      "text/plain": [
       "[1] 0.7807018"
      ]
     },
     "metadata": {},
     "output_type": "display_data"
    }
   ],
   "source": [
    "mean (predicciones2 == datos$genero)"
   ]
  },
  {
   "cell_type": "markdown",
   "metadata": {},
   "source": [
    "Columna solo mujeres contra los datos de genero"
   ]
  },
  {
   "cell_type": "code",
   "execution_count": 209,
   "metadata": {},
   "outputs": [
    {
     "data": {
      "text/html": [
       "0.780701754385965"
      ],
      "text/latex": [
       "0.780701754385965"
      ],
      "text/markdown": [
       "0.780701754385965"
      ],
      "text/plain": [
       "[1] 0.7807018"
      ]
     },
     "metadata": {},
     "output_type": "display_data"
    }
   ],
   "source": [
    "mean (datos$pruebam == datos$Genero)"
   ]
  },
  {
   "cell_type": "code",
   "execution_count": null,
   "metadata": {},
   "outputs": [],
   "source": []
  },
  {
   "cell_type": "code",
   "execution_count": null,
   "metadata": {},
   "outputs": [],
   "source": []
  }
 ],
 "metadata": {
  "kernelspec": {
   "display_name": "R",
   "language": "R",
   "name": "ir"
  },
  "language_info": {
   "codemirror_mode": "r",
   "file_extension": ".r",
   "mimetype": "text/x-r-source",
   "name": "R",
   "pygments_lexer": "r",
   "version": "4.1.0"
  }
 },
 "nbformat": 4,
 "nbformat_minor": 4
}
